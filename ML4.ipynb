{
  "nbformat": 4,
  "nbformat_minor": 0,
  "metadata": {
    "colab": {
      "name": "ML4.ipynb",
      "provenance": [],
      "authorship_tag": "ABX9TyP43wYwq9yGtQtiFy9p/u94",
      "include_colab_link": true
    },
    "kernelspec": {
      "name": "python3",
      "display_name": "Python 3"
    }
  },
  "cells": [
    {
      "cell_type": "markdown",
      "metadata": {
        "id": "view-in-github",
        "colab_type": "text"
      },
      "source": [
        "<a href=\"https://colab.research.google.com/github/AlbertThamson17/Tugas-MACHINE-LEARNING-3/blob/master/ML4.ipynb\" target=\"_parent\"><img src=\"https://colab.research.google.com/assets/colab-badge.svg\" alt=\"Open In Colab\"/></a>"
      ]
    },
    {
      "cell_type": "code",
      "metadata": {
        "id": "iAFyi1UT8H1T",
        "colab_type": "code",
        "colab": {}
      },
      "source": [
        "import pandas as pd\n",
        "import numpy as np\n",
        "import matplotlib.pyplot as plt"
      ],
      "execution_count": 0,
      "outputs": []
    },
    {
      "cell_type": "code",
      "metadata": {
        "id": "MkRoUtcu8I4c",
        "colab_type": "code",
        "colab": {
          "base_uri": "https://localhost:8080/",
          "height": 255
        },
        "outputId": "c6bd6a75-e50a-4a6b-fa7c-90ce1e64e9d6"
      },
      "source": [
        "data = pd.read_csv(\"listings.csv\")\n",
        "\n",
        "print(data)"
      ],
      "execution_count": 3,
      "outputs": [
        {
          "output_type": "stream",
          "text": [
            "            id  ... availability_365\n",
            "0        49091  ...              365\n",
            "1        50646  ...              365\n",
            "2        56334  ...              365\n",
            "3        71609  ...              353\n",
            "4        71896  ...              355\n",
            "...        ...  ...              ...\n",
            "7902  38105126  ...               61\n",
            "7903  38108273  ...              365\n",
            "7904  38109336  ...              173\n",
            "7905  38110493  ...               30\n",
            "7906  38112762  ...              365\n",
            "\n",
            "[7907 rows x 16 columns]\n"
          ],
          "name": "stdout"
        }
      ]
    },
    {
      "cell_type": "code",
      "metadata": {
        "id": "qu9phf7e8ykP",
        "colab_type": "code",
        "colab": {
          "base_uri": "https://localhost:8080/",
          "height": 493
        },
        "outputId": "5ccfd2e0-768f-46f4-adf8-3bb1be1fe34f"
      },
      "source": [
        "DisData = data[[\"price\",\"minimum_nights\",\"number_of_reviews\",\"reviews_per_month\",\"calculated_host_listings_count\",\"availability_365\"]]\n",
        "ContData = data[[\"longitude\",\"latitude\"]]\n",
        "\n",
        "print(DisData)\n",
        "print(ContData)"
      ],
      "execution_count": 5,
      "outputs": [
        {
          "output_type": "stream",
          "text": [
            "      price  minimum_nights  ...  calculated_host_listings_count  availability_365\n",
            "0        83             180  ...                               2               365\n",
            "1        81              90  ...                               1               365\n",
            "2        69               6  ...                               2               365\n",
            "3       206               1  ...                               9               353\n",
            "4        94               1  ...                               9               355\n",
            "...     ...             ...  ...                             ...               ...\n",
            "7902    100               3  ...                              31                61\n",
            "7903    550               6  ...                              34               365\n",
            "7904     58              30  ...                               3               173\n",
            "7905     56              14  ...                               2                30\n",
            "7906     65              90  ...                               7               365\n",
            "\n",
            "[7907 rows x 6 columns]\n",
            "      longitude  latitude\n",
            "0     103.79580   1.44255\n",
            "1     103.78521   1.33235\n",
            "2     103.79667   1.44246\n",
            "3     103.95712   1.34541\n",
            "4     103.95963   1.34567\n",
            "...         ...       ...\n",
            "7902  103.78751   1.27973\n",
            "7903  103.82623   1.29269\n",
            "7904  103.85996   1.31286\n",
            "7905  103.83801   1.29543\n",
            "7906  103.83325   1.29672\n",
            "\n",
            "[7907 rows x 2 columns]\n"
          ],
          "name": "stdout"
        }
      ]
    },
    {
      "cell_type": "code",
      "metadata": {
        "id": "FZAxJcH190TA",
        "colab_type": "code",
        "colab": {
          "base_uri": "https://localhost:8080/",
          "height": 357
        },
        "outputId": "76831ec7-3f2a-4ac4-f39a-73814ee636cd"
      },
      "source": [
        "DisMean = DisData.mean()\n",
        "ContMean = ContData.mean()\n",
        "DisVar = DisData.var()\n",
        "ContVar = ContData.var()\n",
        "\n",
        "print(DisMean)\n",
        "print(ContMean)\n",
        "print(DisVar)\n",
        "print(ContVar)"
      ],
      "execution_count": 6,
      "outputs": [
        {
          "output_type": "stream",
          "text": [
            "price                             169.332996\n",
            "minimum_nights                     17.510054\n",
            "number_of_reviews                  12.807386\n",
            "reviews_per_month                   1.043669\n",
            "calculated_host_listings_count     40.607689\n",
            "availability_365                  208.726318\n",
            "dtype: float64\n",
            "longitude    103.848787\n",
            "latitude       1.314192\n",
            "dtype: float64\n",
            "price                             115727.602608\n",
            "minimum_nights                      1771.956735\n",
            "number_of_reviews                    882.550171\n",
            "reviews_per_month                      1.653413\n",
            "calculated_host_listings_count      4242.601196\n",
            "availability_365                   21351.064477\n",
            "dtype: float64\n",
            "longitude    0.001907\n",
            "latitude     0.000935\n",
            "dtype: float64\n"
          ],
          "name": "stdout"
        }
      ]
    },
    {
      "cell_type": "code",
      "metadata": {
        "id": "yFo8BK4l-kqG",
        "colab_type": "code",
        "colab": {
          "base_uri": "https://localhost:8080/",
          "height": 255
        },
        "outputId": "5eadffb8-01bf-4c09-f365-c0db6737647f"
      },
      "source": [
        "ContDataDtype = ContData.astype(float)\n",
        "print(ContDataDtype)"
      ],
      "execution_count": 11,
      "outputs": [
        {
          "output_type": "stream",
          "text": [
            "      longitude  latitude\n",
            "0     103.79580   1.44255\n",
            "1     103.78521   1.33235\n",
            "2     103.79667   1.44246\n",
            "3     103.95712   1.34541\n",
            "4     103.95963   1.34567\n",
            "...         ...       ...\n",
            "7902  103.78751   1.27973\n",
            "7903  103.82623   1.29269\n",
            "7904  103.85996   1.31286\n",
            "7905  103.83801   1.29543\n",
            "7906  103.83325   1.29672\n",
            "\n",
            "[7907 rows x 2 columns]\n"
          ],
          "name": "stdout"
        }
      ]
    },
    {
      "cell_type": "code",
      "metadata": {
        "id": "rsAbUT5vAHW-",
        "colab_type": "code",
        "colab": {}
      },
      "source": [
        "Lat = ContData['latitude'].tolist()\n",
        "Long = ContData['longitude'].tolist()\n",
        "Def = ContData"
      ],
      "execution_count": 0,
      "outputs": []
    },
    {
      "cell_type": "code",
      "metadata": {
        "id": "FRfVw72GAnWx",
        "colab_type": "code",
        "colab": {
          "base_uri": "https://localhost:8080/",
          "height": 401
        },
        "outputId": "330a95fc-881f-4ce4-bb73-bd811f892bb0"
      },
      "source": [
        "plt.hist(Long,bins = 15)"
      ],
      "execution_count": 15,
      "outputs": [
        {
          "output_type": "execute_result",
          "data": {
            "text/plain": [
              "(array([2.000e+00, 9.000e+00, 7.400e+01, 9.300e+01, 1.790e+02, 2.460e+02,\n",
              "        2.960e+02, 2.310e+02, 1.612e+03, 2.983e+03, 9.210e+02, 7.680e+02,\n",
              "        2.770e+02, 1.110e+02, 1.050e+02]),\n",
              " array([103.64656   , 103.66835067, 103.69014133, 103.711932  ,\n",
              "        103.73372267, 103.75551333, 103.777304  , 103.79909467,\n",
              "        103.82088533, 103.842676  , 103.86446667, 103.88625733,\n",
              "        103.908048  , 103.92983867, 103.95162933, 103.97342   ]),\n",
              " <a list of 15 Patch objects>)"
            ]
          },
          "metadata": {
            "tags": []
          },
          "execution_count": 15
        },
        {
          "output_type": "display_data",
          "data": {
            "image/png": "[encoded data removed]",
            "text/plain": [
              "<Figure size 432x288 with 1 Axes>"
            ]
          },
          "metadata": {
            "tags": []
          }
        }
      ]
    },
    {
      "cell_type": "code",
      "metadata": {
        "id": "F13zqBHDArYj",
        "colab_type": "code",
        "colab": {
          "base_uri": "https://localhost:8080/",
          "height": 367
        },
        "outputId": "10b8b410-6fd9-438a-f39a-0102e3f73643"
      },
      "source": [
        "plt.hist(Lat,bins = 15)"
      ],
      "execution_count": 16,
      "outputs": [
        {
          "output_type": "execute_result",
          "data": {
            "text/plain": [
              "(array([  17.,   29., 1263., 1145., 2340., 1652.,  436.,  366.,  156.,\n",
              "         183.,   97.,   62.,   37.,   70.,   54.]),\n",
              " array([1.24387 , 1.257918, 1.271966, 1.286014, 1.300062, 1.31411 ,\n",
              "        1.328158, 1.342206, 1.356254, 1.370302, 1.38435 , 1.398398,\n",
              "        1.412446, 1.426494, 1.440542, 1.45459 ]),\n",
              " <a list of 15 Patch objects>)"
            ]
          },
          "metadata": {
            "tags": []
          },
          "execution_count": 16
        },
        {
          "output_type": "display_data",
          "data": {
            "image/png": "[encoded data removed]",
            "text/plain": [
              "<Figure size 432x288 with 1 Axes>"
            ]
          },
          "metadata": {
            "tags": []
          }
        }
      ]
    },
    {
      "cell_type": "code",
      "metadata": {
        "id": "maJOwSApAwCQ",
        "colab_type": "code",
        "colab": {
          "base_uri": "https://localhost:8080/",
          "height": 51
        },
        "outputId": "98313a8b-c5ad-45ac-f684-101ba7bbdd78"
      },
      "source": [
        "from numpy import mean,std\n",
        "\n",
        "MeanLong = mean(Long)\n",
        "StdLong = std(Long)\n",
        "MeanLat = np.mean(Lat)\n",
        "StdLat = np.std(Lat)\n",
        "\n",
        "print(MeanLat, StdLat)\n",
        "print(MeanLong, StdLong)"
      ],
      "execution_count": 18,
      "outputs": [
        {
          "output_type": "stream",
          "text": [
            "1.3141924649045151 0.030575510644587977\n",
            "103.84878745794865 0.04367188073148576\n"
          ],
          "name": "stdout"
        }
      ]
    },
    {
      "cell_type": "code",
      "metadata": {
        "id": "eaG_JX9jBQ5C",
        "colab_type": "code",
        "colab": {}
      },
      "source": [
        "from scipy.stats import norm\n",
        "\n",
        "NormLat = norm(MeanLat, StdLat)\n",
        "NormLong = norm(MeanLong, StdLong)"
      ],
      "execution_count": 0,
      "outputs": []
    },
    {
      "cell_type": "code",
      "metadata": {
        "id": "OFeuT5BKBhmm",
        "colab_type": "code",
        "colab": {}
      },
      "source": [
        "MinLat = min(Lat)\n",
        "MaxLat = max(Lat)\n",
        "MinLong = min(Long)\n",
        "MaxLong = max(Long)\n",
        "\n",
        "ValLat = list(range(int(MinLat), int(MaxLat)))\n",
        "ValLong = list(range(int(MinLong), int(MaxLong)))"
      ],
      "execution_count": 0,
      "outputs": []
    },
    {
      "cell_type": "code",
      "metadata": {
        "id": "bZmzrI3gB_ZA",
        "colab_type": "code",
        "colab": {}
      },
      "source": [
        "PLat = [NormLat.pdf(v) for v in ValLat]\n",
        "PLong = [NormLong.pdf(v) for v in ValLong]"
      ],
      "execution_count": 0,
      "outputs": []
    },
    {
      "cell_type": "code",
      "metadata": {
        "id": "AIe2YJ-DCb-n",
        "colab_type": "code",
        "colab": {
          "base_uri": "https://localhost:8080/",
          "height": 282
        },
        "outputId": "5a30a883-d412-438d-fe4b-a365538a1884"
      },
      "source": [
        "from matplotlib import pyplot\n",
        "pyplot.hist(Lat, bins=15, density=True) \n",
        "pyplot.plot(ValLat, PLat)"
      ],
      "execution_count": 25,
      "outputs": [
        {
          "output_type": "execute_result",
          "data": {
            "text/plain": [
              "[<matplotlib.lines.Line2D at 0x7fbf639a65f8>]"
            ]
          },
          "metadata": {
            "tags": []
          },
          "execution_count": 25
        },
        {
          "output_type": "display_data",
          "data": {
            "image/png": "[encoded data removed]",
            "text/plain": [
              "<Figure size 432x288 with 1 Axes>"
            ]
          },
          "metadata": {
            "tags": []
          }
        }
      ]
    },
    {
      "cell_type": "code",
      "metadata": {
        "id": "9NN2U4nRCnvL",
        "colab_type": "code",
        "colab": {
          "base_uri": "https://localhost:8080/",
          "height": 282
        },
        "outputId": "5e2b1ed5-31be-4d3d-9288-18bfe3bd4a82"
      },
      "source": [
        "from matplotlib import pyplot\n",
        "pyplot.hist(Long, bins=15, density=True)\n",
        "pyplot.plot(ValLong, PLat)"
      ],
      "execution_count": 26,
      "outputs": [
        {
          "output_type": "execute_result",
          "data": {
            "text/plain": [
              "[<matplotlib.lines.Line2D at 0x7fbf6395c5f8>]"
            ]
          },
          "metadata": {
            "tags": []
          },
          "execution_count": 26
        },
        {
          "output_type": "display_data",
          "data": {
            "image/png": "[encoded data removed]",
            "text/plain": [
              "<Figure size 432x288 with 1 Axes>"
            ]
          },
          "metadata": {
            "tags": []
          }
        }
      ]
    }
  ]
}